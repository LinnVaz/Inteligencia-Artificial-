{
  "nbformat": 4,
  "nbformat_minor": 0,
  "metadata": {
    "colab": {
      "provenance": []
    },
    "kernelspec": {
      "name": "python3",
      "display_name": "Python 3"
    },
    "language_info": {
      "name": "python"
    }
  },
  "cells": [
    {
      "cell_type": "markdown",
      "source": [
        "**Mi** **primer** **notebook** **:)**\n",
        "\n",
        "Ejemplos sencillos en Phyton."
      ],
      "metadata": {
        "id": "_5Rm7zUkMANf"
      }
    },
    {
      "cell_type": "code",
      "source": [
        "print(\"Que onda\")"
      ],
      "metadata": {
        "colab": {
          "base_uri": "https://localhost:8080/"
        },
        "id": "kGr0xvNRMeDZ",
        "outputId": "6fae35e6-b749-4a80-d8b2-88c166fc007a"
      },
      "execution_count": 2,
      "outputs": [
        {
          "output_type": "stream",
          "name": "stdout",
          "text": [
            "Que onda\n"
          ]
        }
      ]
    }
  ]
}
{
  "nbformat": 4,
  "nbformat_minor": 0,
  "metadata": {
    "colab": {
      "provenance": []
    },
    "kernelspec": {
      "name": "python3",
      "display_name": "Python 3"
    },
    "language_info": {
      "name": "python"
    }
  },
  "cells": [
    {
      "cell_type": "markdown",
      "source": [
        "**Actividad 5**\n",
        "\n",
        "**Diseño de algoritmos en Python**\n",
        "\n",
        "**Hora:N1**----**Grupo:007**\n",
        "\n",
        "Link colab: https://colab.research.google.com/drive/1kbmbJmI04JRAl-DBIdfG_Wy2kLRfxjnY?usp=sharing"
      ],
      "metadata": {
        "id": "pJ39jHU20p6Z"
      }
    },
    {
      "cell_type": "markdown",
      "source": [
        "1.- Desarrolla un algoritmo que le pida al usuario su nombre y que lo salude con su nombre, excepto si se llama “Ana”, “Juan”, y “Pedro”.\n"
      ],
      "metadata": {
        "id": "hFBdPosk1LOa"
      }
    },
    {
      "cell_type": "code",
      "source": [
        "# Programa 1\n",
        "nbr = input(\"¿Cuál es tu nombre? \").lower()\n",
        "den = [\"ana\",\"juan\",\"pedro\"]\n",
        "if nbr not in den:\n",
        "  print(\"Hola\" + \" \" + nbr)\n",
        "else:\n",
        "  print(\"Nombre denegado\")"
      ],
      "metadata": {
        "colab": {
          "base_uri": "https://localhost:8080/"
        },
        "id": "Gsk_lWzE1U_t",
        "outputId": "f1a5634e-57fe-470e-b15d-e9783d650c42"
      },
      "execution_count": null,
      "outputs": [
        {
          "output_type": "stream",
          "name": "stdout",
          "text": [
            "¿Cuál es tu nombre? Ana\n",
            "Nombre denegado\n"
          ]
        }
      ]
    },
    {
      "cell_type": "markdown",
      "source": [
        "2.- Desarrolla un algoritmo que por medio de una función, le pida al usuario una lista de N elementos y como resultado invierta el sentido de la lista."
      ],
      "metadata": {
        "id": "irrA0xm52z_a"
      }
    },
    {
      "cell_type": "code",
      "source": [
        "# Programa 2\n",
        "ctd = int(input(\"Cantidad de números: \"))\n",
        "lst = []\n",
        "print(\"Ingrese los elementos de la lista:\")\n",
        "for i in range(0,ctd):\n",
        "  lst.append(int(input()))\n",
        "lst.reverse()\n",
        "print(\"Elementos de la lista en sentido contrario:\")\n",
        "print(lst)"
      ],
      "metadata": {
        "colab": {
          "base_uri": "https://localhost:8080/"
        },
        "id": "rReKP19d2a2r",
        "outputId": "e12b8f25-a959-4e29-9fe8-8b2d1caef302"
      },
      "execution_count": null,
      "outputs": [
        {
          "output_type": "stream",
          "name": "stdout",
          "text": [
            "Cantidad de números: 5\n",
            "Ingrese los elementos de la lista:\n",
            "5\n",
            "4\n",
            "3\n",
            "2\n",
            "1\n",
            "Elementos de la lista en sentido contrario:\n",
            "[1, 2, 3, 4, 5]\n"
          ]
        }
      ]
    },
    {
      "cell_type": "markdown",
      "source": [
        "3.- Desarrolla un algoritmo que le pregunte al usuario cuántos números de la serie de Fibonacci quiere generar y que al final los imprima."
      ],
      "metadata": {
        "id": "8QFPAbZ23io3"
      }
    },
    {
      "cell_type": "code",
      "source": [
        "#Programa 3\n",
        "ctdf = int(input(\"Ingrese la cantidad de números de la serie de Fibonacci que quiera generar: \"))\n",
        "f = [0,1]\n",
        "for i in range(1,ctdf):\n",
        "  f.append(f[i]+f[i-1])\n",
        "f.pop(0)\n",
        "print(\"La serie de Fibonacci de\", ctdf, \"números es:\")\n",
        "if ctdf>1:\n",
        "  print(f)\n",
        "else:\n",
        "  print(\"Sin Datos\")"
      ],
      "metadata": {
        "colab": {
          "base_uri": "https://localhost:8080/"
        },
        "id": "MX2IytAl3uEc",
        "outputId": "77fb4360-9dd7-40d1-cb7b-48f722bdd058"
      },
      "execution_count": null,
      "outputs": [
        {
          "output_type": "stream",
          "name": "stdout",
          "text": [
            "Ingrese la cantidad de números de la serie de Fibonacci que quiera generar: 5\n",
            "La serie de Fibonacci de 5 números es:\n",
            "[1, 1, 2, 3, 5]\n"
          ]
        }
      ]
    },
    {
      "cell_type": "markdown",
      "source": [
        "4.- Juego de adivinar el número: Crea un programa que genere un número aleatorio entre 1 y 100, y luego le pida al usuario que adivine el número. El programa debe proporcionar pistas al usuario si el número es mayor o menor que el número objetivo, y seguir solicitando un nuevo intento hasta que el usuario adivine correctamente."
      ],
      "metadata": {
        "id": "vqXwAnUD4saX"
      }
    },
    {
      "cell_type": "code",
      "source": [
        "#Programa 4\n",
        "import random\n",
        "print(\"¡Adivina el número entre 1 y 100!\")\n",
        "y = random.randint(1,100)\n",
        "while True:\n",
        "  x = int(input())\n",
        "  if x == y:\n",
        "    print(\"¡Correcto!\")\n",
        "    break\n",
        "  if x>y and x<=y+3:\n",
        "    print(\"¡Un poco menos!\")\n",
        "  else:\n",
        "    if x>y+3 and x<=y+15:\n",
        "      print(\"¡Más abajo!\")\n",
        "    else:\n",
        "      if x>y+15:\n",
        "        print(\"¡Demasiado arriba!\")\n",
        "  if x<y and x>=y-3:\n",
        "    print(\"¡Un poco más arriba!\")\n",
        "  else:\n",
        "    if x<y-3 and x>=y-15:\n",
        "      print(\"¡Más arriba!\")\n",
        "    else:\n",
        "      if x<y-15:\n",
        "        print(\"¡Demasiado abajo!\")"
      ],
      "metadata": {
        "colab": {
          "base_uri": "https://localhost:8080/"
        },
        "id": "GUur1U8F4xaX",
        "outputId": "d5a99214-7d94-4c2c-fda1-2ad91f9fe645"
      },
      "execution_count": null,
      "outputs": [
        {
          "output_type": "stream",
          "name": "stdout",
          "text": [
            "¡Adivina el número entre 1 y 100!\n",
            "50\n",
            "¡Demasiado arriba!\n",
            "25\n",
            "¡Un poco menos!\n",
            "22\n",
            "¡Correcto!\n"
          ]
        }
      ]
    },
    {
      "cell_type": "markdown",
      "source": [
        "5.- Ejercicio de cálculo de números primos en un rango dado: Escribe un programa que solicite al usuario un rango de números y muestre todos los números primos dentro de ese rango."
      ],
      "metadata": {
        "id": "-ojlZXre6eM0"
      }
    },
    {
      "cell_type": "code",
      "source": [
        "#Programa 5\n",
        "ctdi = int(input(\"Número Inicial: \"))\n",
        "ctdf = int(input(\"Número Final: \"))\n",
        "prmi  = [2]\n",
        "prmf  = []\n",
        "for i in range(3,ctdf+1,2):\n",
        "  for j in range(0,len(prmi)):\n",
        "    if i%prmi[j]==0:\n",
        "      break\n",
        "  if i%prmi[j]!=0:\n",
        "    prmi.append(i)\n",
        "for i in range(0,len(prmi)):\n",
        "  if prmi[i]>=ctdi and prmi[i]<=ctdf:\n",
        "    prmf.append(prmi[i])\n",
        "if len(prmf)==0:\n",
        "  print(\"Sin Datos\")\n",
        "else:\n",
        "  print(\"Números primos en el rango del\", ctdi, \"al\", ctdf, \":\")\n",
        "  print(prmf)"
      ],
      "metadata": {
        "colab": {
          "base_uri": "https://localhost:8080/"
        },
        "id": "a-9BbZ8u6wXL",
        "outputId": "94ca2c75-8fa6-47bb-bc31-da269edd8c3a"
      },
      "execution_count": null,
      "outputs": [
        {
          "output_type": "stream",
          "name": "stdout",
          "text": [
            "Número Inicial: 1\n",
            "Número Final: 10\n",
            "Números primos en el rango del 1 al 10 :\n",
            "[2, 3, 5, 7]\n"
          ]
        }
      ]
    },
    {
      "cell_type": "markdown",
      "source": [
        "6.-Ejercicio de implementación de una calculadora básica utilizando funciones: Escribe un programa que solicite al usuario dos números y realice operaciones básicas como suma, resta, multiplicación y división utilizando funciones separadas para cada operación."
      ],
      "metadata": {
        "id": "4-6JxH6N7PNm"
      }
    },
    {
      "cell_type": "code",
      "source": [
        "#Programa 6\n",
        "def Sum():\n",
        "  print(\"Suma           = \",a+b)\n",
        "def Res():\n",
        "  print(\"Resta          = \",a-b)\n",
        "def Mul():\n",
        "  print(\"Multiplicación = \",a*b)\n",
        "def Div():\n",
        "  print(\"División       = \",a/b)\n",
        "\n",
        "a = int(input(\"Número 1: \"))\n",
        "b = int(input(\"Número 2: \"))\n",
        "Sum()\n",
        "Res()\n",
        "Mul()\n",
        "Div()"
      ],
      "metadata": {
        "colab": {
          "base_uri": "https://localhost:8080/"
        },
        "id": "gEk4S9FA7Y9B",
        "outputId": "55f8b64a-8869-40a1-e7d6-8565b53547c5"
      },
      "execution_count": 1,
      "outputs": [
        {
          "output_type": "stream",
          "name": "stdout",
          "text": [
            "Número 1: 10\n",
            "Número 2: 5\n",
            "Suma           =  15\n",
            "Resta          =  5\n",
            "Multiplicación =  50\n",
            "División       =  2.0\n"
          ]
        }
      ]
    }
  ]
}
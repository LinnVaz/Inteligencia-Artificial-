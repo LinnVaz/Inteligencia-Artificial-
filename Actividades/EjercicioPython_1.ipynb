{
  "nbformat": 4,
  "nbformat_minor": 0,
  "metadata": {
    "colab": {
      "provenance": []
    },
    "kernelspec": {
      "name": "python3",
      "display_name": "Python 3"
    },
    "language_info": {
      "name": "python"
    }
  },
  "cells": [
    {
      "cell_type": "markdown",
      "source": [
        "**Actividad #5**\n",
        "\n",
        "**Diseño de algoritmos en Python**\n",
        "\n",
        "**Hora:N1**----**Grupo:007**\n",
        "\n",
        "**Linda Valeria Vázquez Morín**\n",
        "\n",
        "**2048681**\n",
        "\n",
        "colab: https://colab.research.google.com/drive/1kbmbJmI04JRAl-DBIdfG_Wy2kLRfxjnY?usp=sharing"
      ],
      "metadata": {
        "id": "pJ39jHU20p6Z"
      }
    },
    {
      "cell_type": "markdown",
      "source": [
        "1.- Desarrolla un algoritmo que le pida al usuario su nombre y que lo salude con su nombre, excepto si se llama “Ana”, “Juan”, y “Pedro”.\n"
      ],
      "metadata": {
        "id": "hFBdPosk1LOa"
      }
    },
    {
      "cell_type": "code",
      "source": [
        "# Programa 1\n",
        "nbr = input(\"¿Ingresa tu nombre? \").lower()\n",
        "den = [\"ana\",\"juan\",\"pedro\"]\n",
        "if nbr not in den:\n",
        "  print(\"Hola\" + \" \" + nbr)\n",
        "else:\n",
        "  print(\"No saludo a\",nbr)"
      ],
      "metadata": {
        "colab": {
          "base_uri": "https://localhost:8080/"
        },
        "id": "Gsk_lWzE1U_t",
        "outputId": "7bf685c7-b2cb-42f6-8ad1-82873578f9ba"
      },
      "execution_count": 3,
      "outputs": [
        {
          "output_type": "stream",
          "name": "stdout",
          "text": [
            "¿Ingresa tu nombre? Juan\n",
            "No saludo a juan\n"
          ]
        }
      ]
    },
    {
      "cell_type": "markdown",
      "source": [
        "2.- Desarrolla un algoritmo que por medio de una función, le pida al usuario una lista de N elementos y como resultado invierta el sentido de la lista."
      ],
      "metadata": {
        "id": "irrA0xm52z_a"
      }
    },
    {
      "cell_type": "code",
      "source": [
        "print(\"Vamos a crear una lista\")\n",
        "elementos = input(\"Qué te gustaria agregar a tu lista? (separalo por espacios)\").split()\n",
        "print(\"tu lista de forma invertida es:\",list(reversed(elementos)))"
      ],
      "metadata": {
        "colab": {
          "base_uri": "https://localhost:8080/"
        },
        "id": "rReKP19d2a2r",
        "outputId": "c08b699d-90ad-4dca-a5fb-133afa331cae"
      },
      "execution_count": 6,
      "outputs": [
        {
          "output_type": "stream",
          "name": "stdout",
          "text": [
            "Vamos a crear una lista\n",
            "Qué te gustaria agregar a tu lista? (separalo por espacios)Jamón Qeso Tomate Chorizo Coco\n",
            "tu lista de forma invertida es: ['Coco', 'Chorizo', 'Tomate', 'Qeso', 'Jamón']\n"
          ]
        }
      ]
    },
    {
      "cell_type": "markdown",
      "source": [
        "3.- Desarrolla un algoritmo que le pregunte al usuario cuántos números de la serie de Fibonacci quiere generar y que al final los imprima."
      ],
      "metadata": {
        "id": "8QFPAbZ23io3"
      }
    },
    {
      "cell_type": "code",
      "source": [
        "#Programa 3\n",
        "ctdf = int(input(\"Ingrese la cantidad de números de la serie de Fibonacci que quiera generar: \"))\n",
        "f = [0,1]\n",
        "for i in range(1,ctdf):\n",
        "  f.append(f[i]+f[i-1])\n",
        "f.pop(0)\n",
        "print(\"La serie de Fibonacci de\", ctdf, \"números es:\")\n",
        "if ctdf>1:\n",
        "  print(f)\n",
        "else:\n",
        "  print(\"Sin Datos\")"
      ],
      "metadata": {
        "colab": {
          "base_uri": "https://localhost:8080/"
        },
        "id": "MX2IytAl3uEc",
        "outputId": "f5023960-7dd6-490f-935c-e745872dcecb"
      },
      "execution_count": 7,
      "outputs": [
        {
          "output_type": "stream",
          "name": "stdout",
          "text": [
            "Ingrese la cantidad de números de la serie de Fibonacci que quiera generar: 8\n",
            "La serie de Fibonacci de 8 números es:\n",
            "[1, 1, 2, 3, 5, 8, 13, 21]\n"
          ]
        }
      ]
    },
    {
      "cell_type": "markdown",
      "source": [
        "4.- Juego de adivinar el número: Crea un programa que genere un número aleatorio entre 1 y 100, y luego le pida al usuario que adivine el número. El programa debe proporcionar pistas al usuario si el número es mayor o menor que el número objetivo, y seguir solicitando un nuevo intento hasta que el usuario adivine correctamente."
      ],
      "metadata": {
        "id": "z7qYG13IlSpN"
      }
    },
    {
      "cell_type": "code",
      "source": [
        "#Programa 4\n",
        "import random\n",
        "print(\"¡Adivina el número entre 1 y 100!\")\n",
        "y = random.randint(1,100)\n",
        "while True:\n",
        "  x = int(input())\n",
        "  if x == y:\n",
        "    print(\"¡Correcto!\")\n",
        "    break\n",
        "  elif x>y and x<=y+3:\n",
        "    print(\"¡Un poco menos!\")\n",
        "  elif x>y+3 and x<=y+15:\n",
        "    print(\"¡Más abajo!\")\n",
        "  elif x>y+15:\n",
        "    print(\"¡Demasiado arriba!\")\n",
        "  elif x<y and x>=y-3:\n",
        "    print(\"¡Un poco más aeriba!\")\n",
        "  elif x<y-3 and x>=y-15:\n",
        "    print(\"¡Más arriba!\")\n",
        "  else:\n",
        "    print(\"¡Demasiado abajo!\")"
      ],
      "metadata": {
        "colab": {
          "base_uri": "https://localhost:8080/"
        },
        "id": "VJUU9VOqlslJ",
        "outputId": "deb9a2a0-0325-47f1-e75b-1374a3bfdaef"
      },
      "execution_count": 12,
      "outputs": [
        {
          "output_type": "stream",
          "name": "stdout",
          "text": [
            "¡Adivina el número entre 1 y 100!\n",
            "82\n",
            "¡Demasiado arriba!\n",
            "43\n",
            "¡Más arriba!\n",
            "56\n",
            "¡Más abajo!\n",
            "51\n",
            "¡Un poco menos!\n",
            "48\n",
            "¡Un poco más aeriba!\n",
            "51\n",
            "¡Un poco menos!\n",
            "50\n",
            "¡Un poco menos!\n",
            "49\n",
            "¡Correcto!\n"
          ]
        }
      ]
    },
    {
      "cell_type": "markdown",
      "source": [
        "5.- Ejercicio de cálculo de números primos en un rango dado: Escribe un programa que solicite al usuario un rango de números y muestre todos los números primos dentro de ese rango."
      ],
      "metadata": {
        "id": "-ojlZXre6eM0"
      }
    },
    {
      "cell_type": "code",
      "source": [
        "#Programa 5\n",
        "ctdi = int(input(\"Número Inicial: \"))\n",
        "ctdf = int(input(\"Número Final: \"))\n",
        "prmi  = [2]\n",
        "prmf  = []\n",
        "for i in range(3,ctdf+1,2):\n",
        "  for j in range(0,len(prmi)):\n",
        "    if i%prmi[j]==0:\n",
        "      break\n",
        "  if i%prmi[j]!=0:\n",
        "    prmi.append(i)\n",
        "for i in range(0,len(prmi)):\n",
        "  if prmi[i]>=ctdi and prmi[i]<=ctdf:\n",
        "    prmf.append(prmi[i])\n",
        "if len(prmf)==0:\n",
        "  print(\"Sin Datos\")\n",
        "else:\n",
        "  print(\"Números primos en el rango del\", ctdi, \"al\", ctdf, \":\")\n",
        "  print(prmf)"
      ],
      "metadata": {
        "colab": {
          "base_uri": "https://localhost:8080/"
        },
        "id": "a-9BbZ8u6wXL",
        "outputId": "85a2b7de-0567-49ba-fea6-6f4651863b23"
      },
      "execution_count": 14,
      "outputs": [
        {
          "output_type": "stream",
          "name": "stdout",
          "text": [
            "Número Inicial: 1\n",
            "Número Final: 200\n",
            "Números primos en el rango del 1 al 200 :\n",
            "[2, 3, 5, 7, 11, 13, 17, 19, 23, 29, 31, 37, 41, 43, 47, 53, 59, 61, 67, 71, 73, 79, 83, 89, 97, 101, 103, 107, 109, 113, 127, 131, 137, 139, 149, 151, 157, 163, 167, 173, 179, 181, 191, 193, 197, 199]\n"
          ]
        }
      ]
    },
    {
      "cell_type": "markdown",
      "source": [
        "6.-Ejercicio de implementación de una calculadora básica utilizando funciones: Escribe un programa que solicite al usuario dos números y realice operaciones básicas como suma, resta, multiplicación y división utilizando funciones separadas para cada operación."
      ],
      "metadata": {
        "id": "4-6JxH6N7PNm"
      }
    },
    {
      "cell_type": "code",
      "source": [
        "#Programa 6\n",
        "def Sum():\n",
        "  print(\"Suma           = \",a+b)\n",
        "def Res():\n",
        "  print(\"Resta          = \",a-b)\n",
        "def Mul():\n",
        "  print(\"Multiplicación = \",a*b)\n",
        "def Div():\n",
        "  print(\"División       = \",a/b)\n",
        "\n",
        "a = int(input(\"Número 1: \"))\n",
        "b = int(input(\"Número 2: \"))\n",
        "Sum()\n",
        "Res()\n",
        "Mul()\n",
        "Div()"
      ],
      "metadata": {
        "colab": {
          "base_uri": "https://localhost:8080/"
        },
        "id": "gEk4S9FA7Y9B",
        "outputId": "55f8b64a-8869-40a1-e7d6-8565b53547c5"
      },
      "execution_count": null,
      "outputs": [
        {
          "output_type": "stream",
          "name": "stdout",
          "text": [
            "Número 1: 10\n",
            "Número 2: 5\n",
            "Suma           =  15\n",
            "Resta          =  5\n",
            "Multiplicación =  50\n",
            "División       =  2.0\n"
          ]
        }
      ]
    }
  ]
}